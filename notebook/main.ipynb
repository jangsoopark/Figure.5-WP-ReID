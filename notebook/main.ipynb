{
 "cells": [
  {
   "cell_type": "code",
   "execution_count": 5,
   "id": "46887b44-5024-4429-a02f-3a8ef2425d3d",
   "metadata": {},
   "outputs": [],
   "source": [
    "from rpcm import dataset\n",
    "from rpcm import utils\n",
    "from rpcm import eval\n",
    "\n",
    "from pathlib import Path\n",
    "\n",
    "import os"
   ]
  },
  {
   "cell_type": "code",
   "execution_count": 13,
   "id": "5d4abdfd-953b-4ab5-8c0e-162c11134ed8",
   "metadata": {},
   "outputs": [],
   "source": [
    "raw_data_folder = Path('/data')\n",
    "cropped_image_dir = raw_data_folder / 'cropped_data'\n",
    "split_file_dir = utils.file_abs_path(os.getcwd()) / '_test/files/wp_reid_info.json'"
   ]
  },
  {
   "cell_type": "code",
   "execution_count": 14,
   "id": "d7d6122c-6c9c-4568-b127-2621fd091999",
   "metadata": {},
   "outputs": [
    {
     "name": "stdout",
     "output_type": "stream",
     "text": [
      "Load data <--- /Users/jangsoopark/Documents/course/2023/fall/internet-of-things/WP-ReID/_test/files/wp_reid_info.json\n",
      "WPReID dataset\n",
      "Gallery ID diff Probe ID: []\n",
      "\n",
      "+--------+--------+-------+---------+\n",
      "|  Raw   |  Test  | Probe | Gallery |\n",
      "+--------+--------+-------+---------+\n",
      "|  #ID   |   79   |   79  |    79   |\n",
      "| #Track |  868   |  239  |   868   |\n",
      "| #Image | 106578 | 33345 |  106578 |\n",
      "|  #Cam  |   6    |   6   |    6    |\n",
      "| MaxLen |  1165  |  1165 |   1165  |\n",
      "| MinLen |   3    |   3   |    3    |\n",
      "| AvgLen |  122   |  139  |   122   |\n",
      "+--------+--------+-------+---------+\n",
      "After drop videos less than: test  3 frames, check cam number\n",
      "No related gallery track with different camera id. Drop probe [   33     3 96929 97207   278]\n",
      "No related gallery track with different camera id. Drop probe [   34     3 97207 97258    51]\n",
      "No related gallery track with different camera id. Drop probe [   36     3 97342 97522   180]\n",
      "No related gallery track with different camera id. Drop probe [   37     3 97522 97811   289]\n",
      "No related gallery track with different camera id. Drop probe [   38     3 97811 98229   418]\n",
      "No related gallery track with different camera id. Drop probe [   39     4 98229 98327    98]\n",
      "No related gallery track with different camera id. Drop probe [   40     4 98327 98443   116]\n",
      "No related gallery track with different camera id. Drop probe [   41     4 98584 98605    21]\n",
      "No related gallery track with different camera id. Drop probe [   42     4 98749 98865   116]\n",
      "No related gallery track with different camera id. Drop probe [   43     4 98880 99012   132]\n",
      "No related gallery track with different camera id. Drop probe [   45     4 99053 99185   132]\n",
      "No related gallery track with different camera id. Drop probe [   46     4 99185 99217    32]\n",
      "No related gallery track with different camera id. Drop probe [   49     4 99425 99442    17]\n",
      "No related gallery track with different camera id. Drop probe [   50     4 99532 99598    66]\n",
      "No related gallery track with different camera id. Drop probe [   52     4 99642 99774   132]\n",
      "No related gallery track with different camera id. Drop probe [   53     4 99882 99978    96]\n",
      "No related gallery track with different camera id. Drop probe [    57      4 100822 100852     30]\n",
      "No related gallery track with different camera id. Drop probe [    58      4 102852 102952    100]\n",
      "No related gallery track with different camera id. Drop probe [    59      4 103129 103260    131]\n",
      "No related gallery track with different camera id. Drop probe [    60      4 103260 103274     14]\n",
      "No related gallery track with different camera id. Drop probe [    61      4 103426 103456     30]\n",
      "No related gallery track with different camera id. Drop probe [    62      4 103456 103472     16]\n",
      "No related gallery track with different camera id. Drop probe [    63      4 103472 103496     24]\n",
      "No related gallery track with different camera id. Drop probe [    64      4 103496 103520     24]\n",
      "No related gallery track with different camera id. Drop probe [    65      4 103556 103594     38]\n",
      "No related gallery track with different camera id. Drop probe [    66      4 104240 104412    172]\n",
      "No related gallery track with different camera id. Drop probe [    67      4 104591 104632     41]\n",
      "No related gallery track with different camera id. Drop probe [    68      4 104632 105199    567]\n",
      "No related gallery track with different camera id. Drop probe [    69      4 105389 105419     30]\n",
      "No related gallery track with different camera id. Drop probe [    70      4 105419 105522    103]\n",
      "No related gallery track with different camera id. Drop probe [    71      4 105534 105568     34]\n",
      "No related gallery track with different camera id. Drop probe [    72      4 105568 105673    105]\n",
      "No related gallery track with different camera id. Drop probe [    73      4 105804 105858     54]\n",
      "No related gallery track with different camera id. Drop probe [    74      4 105875 105887     12]\n",
      "No related gallery track with different camera id. Drop probe [    75      5 106002 106149    147]\n",
      "No related gallery track with different camera id. Drop probe [    76      5 106221 106245     24]\n",
      "No related gallery track with different camera id. Drop probe [    77      5 106365 106446     81]\n",
      "No related gallery track with different camera id. Drop probe [    78      5 106537 106578     41]\n",
      "Gallery ID diff Probe ID: [33 34 36 37 38 39 40 41 42 43 45 46 49 50 52 53 57 58 59 60 61 62 63 64\n",
      " 65 66 67 68 69 70 71 72 73 74 75 76 77 78]\n",
      "\n",
      "+------------+--------+-------+---------+\n",
      "| After Drop |  Test  | Probe | Gallery |\n",
      "+------------+--------+-------+---------+\n",
      "|    #ID     |   79   |   41  |    79   |\n",
      "|   #Track   |  868   |  201  |   868   |\n",
      "|   #Image   | 106578 | 29353 |  106578 |\n",
      "|    #Cam    |   6    |   6   |    6    |\n",
      "|   MaxLen   |  1165  |  1165 |   1165  |\n",
      "|   MinLen   |   3    |   3   |    3    |\n",
      "|   AvgLen   |  122   |  146  |   122   |\n",
      "+------------+--------+-------+---------+\n"
     ]
    }
   ],
   "source": [
    "wp_reid_dataset = dataset.DataBank(\n",
    "    minframes=3,\n",
    "    raw_data_folder=raw_data_folder,\n",
    "    cropped_image_dir=cropped_image_dir,\n",
    "    split_file_dir=split_file_dir\n",
    ")"
   ]
  },
  {
   "cell_type": "code",
   "execution_count": 15,
   "id": "3923949c-02a1-471d-8569-7c8887a9c0bd",
   "metadata": {},
   "outputs": [],
   "source": [
    "files_dir = utils.file_abs_path(os.getcwd()) / '_test/files'\n",
    "\n",
    "mmt_duke_dist_file = files_dir / 'mmt_duke_g2g_distmat.json'\n",
    "mmt_mars_dist_file = files_dir / 'mmt_mars_g2g_distmat.json'\n",
    "ssg_duke_dist_file = files_dir / 'ssg_duke_g2g_distmat.json'\n",
    "ssg_mars_dist_file = files_dir / 'ssg_mars_g2g_distmat.json'\n",
    "tkp_duke_dist_file = files_dir / 'tkp_duke_g2g_distmat.json'\n",
    "tkp_mars_dist_file = files_dir / 'tkp_mars_g2g_distmat.json'"
   ]
  },
  {
   "cell_type": "markdown",
   "id": "d7066b4a-9e13-4cfc-a4af-cac3f8ebec41",
   "metadata": {},
   "source": [
    "## MMT Duke"
   ]
  },
  {
   "cell_type": "code",
   "execution_count": 18,
   "id": "f61dc41d-cfdb-4d41-b08b-ef3b78d003f2",
   "metadata": {},
   "outputs": [
    {
     "name": "stdout",
     "output_type": "stream",
     "text": [
      "Load data <--- /Users/jangsoopark/Documents/course/2023/fall/internet-of-things/WP-ReID/_test/files/mmt_duke_g2g_distmat.json\n",
      "K=9, Delta=74, Iteration=5\n",
      "Iteration 0: ReID rank-1 73.13 mAP 37.82. Signal Matching rank-1 53.66\n"
     ]
    },
    {
     "name": "stderr",
     "output_type": "stream",
     "text": [
      "/Users/jangsoopark/Documents/course/2023/fall/internet-of-things/WP-ReID/src/rpcm/update_module.py:93: RuntimeWarning: invalid value encountered in multiply\n",
      "  tg_dist_wighted_i = tg_dist_i * dist_weight\n"
     ]
    },
    {
     "name": "stdout",
     "output_type": "stream",
     "text": [
      "Iteration 1: ReID rank-1 73.13 mAP 49.14. Signal Matching rank-1 78.05\n",
      "Iteration 2: ReID rank-1 73.13 mAP 38.11. Signal Matching rank-1 65.85\n",
      "Iteration 3: ReID rank-1 72.14 mAP 38.07. Signal Matching rank-1 64.02\n",
      "Iteration 4: ReID rank-1 73.13 mAP 38.08. Signal Matching rank-1 65.24\n",
      "Iteration 5: ReID rank-1 72.14 mAP 38.05. Signal Matching rank-1 62.80\n"
     ]
    }
   ],
   "source": [
    "distmat = utils.DataPacker.load(mmt_duke_dist_file)['g2g_distmat']\n",
    "eval.update_with_gps(distmat, wp_reid_dataset.test_info, wp_reid_dataset.probe_index, wp_reid_dataset.gallery_index,\n",
    "                wp_reid_dataset.gps_info, wp_reid_dataset.trajectory_info, k=9)"
   ]
  },
  {
   "cell_type": "markdown",
   "id": "b3d369d5-9ecf-4561-a7d0-0c0ee095fced",
   "metadata": {},
   "source": [
    "## MMT MARS"
   ]
  },
  {
   "cell_type": "code",
   "execution_count": 21,
   "id": "ea9d3059-137d-4a81-8f56-4734090e9944",
   "metadata": {},
   "outputs": [
    {
     "name": "stdout",
     "output_type": "stream",
     "text": [
      "Load data <--- /Users/jangsoopark/Documents/course/2023/fall/internet-of-things/WP-ReID/_test/files/mmt_mars_g2g_distmat.json\n",
      "K=9, Delta=74, Iteration=5\n",
      "Iteration 0: ReID rank-1 64.18 mAP 32.80. Signal Matching rank-1 53.66\n",
      "Iteration 1: ReID rank-1 66.17 mAP 43.78. Signal Matching rank-1 74.39\n",
      "Iteration 2: ReID rank-1 65.17 mAP 33.44. Signal Matching rank-1 62.80\n",
      "Iteration 3: ReID rank-1 64.18 mAP 33.49. Signal Matching rank-1 61.59\n",
      "Iteration 4: ReID rank-1 65.17 mAP 33.49. Signal Matching rank-1 61.59\n",
      "Iteration 5: ReID rank-1 64.68 mAP 33.54. Signal Matching rank-1 61.59\n"
     ]
    }
   ],
   "source": [
    "distmat = utils.DataPacker.load(mmt_mars_dist_file)['g2g_distmat']\n",
    "eval.update_with_gps(distmat, wp_reid_dataset.test_info, wp_reid_dataset.probe_index, wp_reid_dataset.gallery_index,\n",
    "                wp_reid_dataset.gps_info, wp_reid_dataset.trajectory_info, k=9)"
   ]
  },
  {
   "cell_type": "markdown",
   "id": "eb8f5fb6-8b78-4d2d-b5d4-a5de964d97cc",
   "metadata": {},
   "source": [
    "## SSG Duke"
   ]
  },
  {
   "cell_type": "code",
   "execution_count": 22,
   "id": "d09fface-7b82-4352-8ce0-d475fa8ad301",
   "metadata": {},
   "outputs": [
    {
     "name": "stdout",
     "output_type": "stream",
     "text": [
      "Load data <--- /Users/jangsoopark/Documents/course/2023/fall/internet-of-things/WP-ReID/_test/files/ssg_duke_g2g_distmat.json\n",
      "K=4, Delta=74, Iteration=5\n",
      "Iteration 0: ReID rank-1 65.17 mAP 27.99. Signal Matching rank-1 53.66\n",
      "Iteration 1: ReID rank-1 69.65 mAP 36.89. Signal Matching rank-1 73.78\n",
      "Iteration 2: ReID rank-1 66.17 mAP 28.76. Signal Matching rank-1 62.20\n",
      "Iteration 3: ReID rank-1 64.68 mAP 28.38. Signal Matching rank-1 61.59\n",
      "Iteration 4: ReID rank-1 64.18 mAP 28.13. Signal Matching rank-1 60.37\n",
      "Iteration 5: ReID rank-1 64.18 mAP 28.26. Signal Matching rank-1 60.98\n"
     ]
    }
   ],
   "source": [
    "distmat = utils.DataPacker.load(ssg_duke_dist_file)['g2g_distmat']\n",
    "eval.update_with_gps(distmat, wp_reid_dataset.test_info, wp_reid_dataset.probe_index, wp_reid_dataset.gallery_index,\n",
    "                wp_reid_dataset.gps_info, wp_reid_dataset.trajectory_info, k=4)"
   ]
  },
  {
   "cell_type": "markdown",
   "id": "94afa707-37a7-4c72-9d69-569797dca18c",
   "metadata": {},
   "source": [
    "## SSG MARS"
   ]
  },
  {
   "cell_type": "code",
   "execution_count": 23,
   "id": "979e37db-7256-4a8d-a9ed-6e9b2b4ba583",
   "metadata": {},
   "outputs": [
    {
     "name": "stdout",
     "output_type": "stream",
     "text": [
      "Load data <--- /Users/jangsoopark/Documents/course/2023/fall/internet-of-things/WP-ReID/_test/files/ssg_mars_g2g_distmat.json\n",
      "K=4, Delta=74, Iteration=5\n",
      "Iteration 0: ReID rank-1 62.19 mAP 25.20. Signal Matching rank-1 53.66\n",
      "Iteration 1: ReID rank-1 62.69 mAP 32.15. Signal Matching rank-1 71.34\n",
      "Iteration 2: ReID rank-1 62.69 mAP 26.14. Signal Matching rank-1 56.71\n",
      "Iteration 3: ReID rank-1 61.69 mAP 25.50. Signal Matching rank-1 56.71\n",
      "Iteration 4: ReID rank-1 61.19 mAP 25.86. Signal Matching rank-1 58.54\n",
      "Iteration 5: ReID rank-1 61.19 mAP 25.26. Signal Matching rank-1 56.71\n"
     ]
    }
   ],
   "source": [
    "distmat = utils.DataPacker.load(ssg_mars_dist_file)['g2g_distmat']\n",
    "eval.update_with_gps(distmat, wp_reid_dataset.test_info, wp_reid_dataset.probe_index, wp_reid_dataset.gallery_index,\n",
    "                wp_reid_dataset.gps_info, wp_reid_dataset.trajectory_info, k=4)"
   ]
  },
  {
   "cell_type": "markdown",
   "id": "dc1a62dd-2bb5-4351-87cc-578ad566f7f7",
   "metadata": {},
   "source": [
    "## TKP Duke"
   ]
  },
  {
   "cell_type": "code",
   "execution_count": 24,
   "id": "b879615a-5527-4bbe-8581-feeb314c56c2",
   "metadata": {},
   "outputs": [
    {
     "name": "stdout",
     "output_type": "stream",
     "text": [
      "Load data <--- /Users/jangsoopark/Documents/course/2023/fall/internet-of-things/WP-ReID/_test/files/tkp_duke_g2g_distmat.json\n",
      "K=6, Delta=74, Iteration=5\n",
      "Iteration 0: ReID rank-1 57.21 mAP 26.13. Signal Matching rank-1 53.66\n",
      "Iteration 1: ReID rank-1 65.67 mAP 39.92. Signal Matching rank-1 73.17\n",
      "Iteration 2: ReID rank-1 56.22 mAP 26.41. Signal Matching rank-1 54.88\n",
      "Iteration 3: ReID rank-1 56.22 mAP 25.81. Signal Matching rank-1 53.66\n",
      "Iteration 4: ReID rank-1 57.21 mAP 25.89. Signal Matching rank-1 54.27\n",
      "Iteration 5: ReID rank-1 56.22 mAP 25.59. Signal Matching rank-1 53.05\n"
     ]
    }
   ],
   "source": [
    "distmat = utils.DataPacker.load(tkp_duke_dist_file)['g2g_distmat']\n",
    "eval.update_with_gps(distmat, wp_reid_dataset.test_info, wp_reid_dataset.probe_index, wp_reid_dataset.gallery_index,\n",
    "                wp_reid_dataset.gps_info, wp_reid_dataset.trajectory_info, k=6)"
   ]
  },
  {
   "cell_type": "markdown",
   "id": "c42b9e47-caac-4f58-8975-f9fb8452ef34",
   "metadata": {},
   "source": [
    "## TKP MARS"
   ]
  },
  {
   "cell_type": "code",
   "execution_count": 26,
   "id": "27772bdb-333d-4b71-aac4-ed238ad130f7",
   "metadata": {},
   "outputs": [
    {
     "name": "stdout",
     "output_type": "stream",
     "text": [
      "Load data <--- /Users/jangsoopark/Documents/course/2023/fall/internet-of-things/WP-ReID/_test/files/tkp_mars_g2g_distmat.json\n",
      "K=4, Delta=74, Iteration=5\n",
      "Iteration 0: ReID rank-1 41.29 mAP 15.12. Signal Matching rank-1 53.66\n",
      "Iteration 1: ReID rank-1 58.21 mAP 25.62. Signal Matching rank-1 62.80\n",
      "Iteration 2: ReID rank-1 42.29 mAP 15.86. Signal Matching rank-1 42.68\n",
      "Iteration 3: ReID rank-1 41.79 mAP 15.43. Signal Matching rank-1 45.73\n",
      "Iteration 4: ReID rank-1 41.79 mAP 15.41. Signal Matching rank-1 45.73\n",
      "Iteration 5: ReID rank-1 41.29 mAP 15.46. Signal Matching rank-1 45.73\n"
     ]
    }
   ],
   "source": [
    "distmat = utils.DataPacker.load(tkp_mars_dist_file)['g2g_distmat']\n",
    "eval.update_with_gps(distmat, wp_reid_dataset.test_info, wp_reid_dataset.probe_index, wp_reid_dataset.gallery_index,\n",
    "                wp_reid_dataset.gps_info, wp_reid_dataset.trajectory_info, k=4)"
   ]
  },
  {
   "cell_type": "code",
   "execution_count": null,
   "id": "c4e23d87-90dc-4097-8f7a-7d2dbc66c827",
   "metadata": {},
   "outputs": [],
   "source": []
  }
 ],
 "metadata": {
  "kernelspec": {
   "display_name": "Python 3 (ipykernel)",
   "language": "python",
   "name": "python3"
  },
  "language_info": {
   "codemirror_mode": {
    "name": "ipython",
    "version": 3
   },
   "file_extension": ".py",
   "mimetype": "text/x-python",
   "name": "python",
   "nbconvert_exporter": "python",
   "pygments_lexer": "ipython3",
   "version": "3.9.6"
  }
 },
 "nbformat": 4,
 "nbformat_minor": 5
}
